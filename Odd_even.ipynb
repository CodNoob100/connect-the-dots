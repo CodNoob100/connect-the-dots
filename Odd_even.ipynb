{
  "nbformat": 4,
  "nbformat_minor": 0,
  "metadata": {
    "colab": {
      "provenance": [],
      "authorship_tag": "ABX9TyOlm8fix4l1fRR6PS7ArWXd",
      "include_colab_link": true
    },
    "kernelspec": {
      "name": "python3",
      "display_name": "Python 3"
    },
    "language_info": {
      "name": "python"
    }
  },
  "cells": [
    {
      "cell_type": "markdown",
      "metadata": {
        "id": "view-in-github",
        "colab_type": "text"
      },
      "source": [
        "<a href=\"https://colab.research.google.com/github/CodNoob100/connect-the-dots/blob/main/Odd_even.ipynb\" target=\"_parent\"><img src=\"https://colab.research.google.com/assets/colab-badge.svg\" alt=\"Open In Colab\"/></a>"
      ]
    },
    {
      "cell_type": "code",
      "execution_count": 7,
      "metadata": {
        "id": "sgrUIl9EtgT9",
        "colab": {
          "base_uri": "https://localhost:8080/"
        },
        "outputId": "34483bda-03be-4a54-b781-6b5410b6e830"
      },
      "outputs": [
        {
          "output_type": "stream",
          "name": "stdout",
          "text": [
            "Odd\n"
          ]
        }
      ],
      "source": [
        "number = 3\n",
        "\n",
        "if number%2 == 0:\n",
        "  print('Even')\n",
        "else:\n",
        "  print('Odd')"
      ]
    }
  ]
}